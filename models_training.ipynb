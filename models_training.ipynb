{
 "cells": [
  {
   "cell_type": "code",
   "execution_count": 1,
   "metadata": {},
   "outputs": [],
   "source": [
    "from internal_scripts.modelling.training.KerasTrainer import * \n",
    "from internal_scripts.modelling.training.SklearnTrainer import *\n",
    "from internal_scripts.data_loaders.BlackFridayDataLoader import *\n",
    "from internal_scripts.data_loaders.LoanDataLoader import *\n",
    "\n",
    "from sklearn.svm import LinearSVC\n",
    "from sklearn.linear_model import LogisticRegression\n",
    "from sklearn.tree import DecisionTreeClassifier\n",
    "from sklearn.ensemble import RandomForestClassifier\n",
    "from xgboost import XGBClassifier"
   ]
  },
  {
   "cell_type": "code",
   "execution_count": 2,
   "metadata": {},
   "outputs": [],
   "source": [
    "data = LoanDataLoader().get_train_test_split()"
   ]
  },
  {
   "cell_type": "code",
   "execution_count": 3,
   "metadata": {},
   "outputs": [],
   "source": [
    "models = {\n",
    "    \"Linear SVC\": LinearSVC(),\n",
    "    \"Logistic_Regression\": LogisticRegression(C=1e5, solver='lbfgs', multi_class='multinomial', max_iter=10000),\n",
    "    \"Decision_Tree\": DecisionTreeClassifier(),\n",
    "    \"Random_Forest_Classifier\": RandomForestClassifier(n_estimators=10),\n",
    "    \"XGboost\": XGBClassifier()\n",
    "}"
   ]
  },
  {
   "cell_type": "code",
   "execution_count": 4,
   "metadata": {},
   "outputs": [
    {
     "name": "stdout",
     "output_type": "stream",
     "text": [
      "Process for Linear SVC started\n"
     ]
    },
    {
     "name": "stderr",
     "output_type": "stream",
     "text": [
      "c:\\program files\\python36\\lib\\site-packages\\sklearn\\svm\\base.py:931: ConvergenceWarning: Liblinear failed to converge, increase the number of iterations.\n",
      "  \"the number of iterations.\", ConvergenceWarning)\n"
     ]
    },
    {
     "name": "stdout",
     "output_type": "stream",
     "text": [
      "              precision    recall  f1-score   support\n",
      "\n",
      "           0       0.99      0.11      0.20      6778\n",
      "           1       0.79      1.00      0.89     23222\n",
      "\n",
      "   micro avg       0.80      0.80      0.80     30000\n",
      "   macro avg       0.89      0.56      0.54     30000\n",
      "weighted avg       0.84      0.80      0.73     30000\n",
      "\n",
      "Process for Linear SVC has ended\n",
      "Process for Logistic_Regression started\n",
      "              precision    recall  f1-score   support\n",
      "\n",
      "           0       0.91      0.20      0.33      6778\n",
      "           1       0.81      0.99      0.89     23222\n",
      "\n",
      "   micro avg       0.82      0.82      0.82     30000\n",
      "   macro avg       0.86      0.60      0.61     30000\n",
      "weighted avg       0.83      0.82      0.77     30000\n",
      "\n",
      "Process for Logistic_Regression has ended\n",
      "Process for Decision_Tree started\n",
      "              precision    recall  f1-score   support\n",
      "\n",
      "           0       0.45      0.44      0.45      6778\n",
      "           1       0.84      0.84      0.84     23222\n",
      "\n",
      "   micro avg       0.75      0.75      0.75     30000\n",
      "   macro avg       0.65      0.64      0.64     30000\n",
      "weighted avg       0.75      0.75      0.75     30000\n",
      "\n",
      "Process for Decision_Tree has ended\n",
      "Process for Random_Forest_Classifier started\n",
      "              precision    recall  f1-score   support\n",
      "\n",
      "           0       0.62      0.33      0.43      6778\n",
      "           1       0.83      0.94      0.88     23222\n",
      "\n",
      "   micro avg       0.80      0.80      0.80     30000\n",
      "   macro avg       0.72      0.64      0.66     30000\n",
      "weighted avg       0.78      0.80      0.78     30000\n",
      "\n",
      "Process for Random_Forest_Classifier has ended\n",
      "Process for XGboost started\n",
      "              precision    recall  f1-score   support\n",
      "\n",
      "           0       1.00      0.20      0.33      6778\n",
      "           1       0.81      1.00      0.90     23222\n",
      "\n",
      "   micro avg       0.82      0.82      0.82     30000\n",
      "   macro avg       0.90      0.60      0.61     30000\n",
      "weighted avg       0.85      0.82      0.77     30000\n",
      "\n",
      "Process for XGboost has ended\n"
     ]
    }
   ],
   "source": [
    "for name, model in models.items():\n",
    "    print(f\"Process for {name} started\")\n",
    "    trainer = SklearnTrainer(name, model, data)\n",
    "    trained_model = trainer.fit(fitting_params=None)\n",
    "    metrics = trainer.score_model()\n",
    "    print(metrics)\n",
    "    trainer.save_model()\n",
    "    print(f\"Process for {name} has ended\")"
   ]
  },
  {
   "cell_type": "code",
   "execution_count": null,
   "metadata": {},
   "outputs": [],
   "source": []
  }
 ],
 "metadata": {
  "kernelspec": {
   "display_name": "Python 3",
   "language": "python",
   "name": "python3"
  },
  "language_info": {
   "codemirror_mode": {
    "name": "ipython",
    "version": 3
   },
   "file_extension": ".py",
   "mimetype": "text/x-python",
   "name": "python",
   "nbconvert_exporter": "python",
   "pygments_lexer": "ipython3",
   "version": "3.6.5"
  }
 },
 "nbformat": 4,
 "nbformat_minor": 2
}
