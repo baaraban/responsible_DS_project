{
 "cells": [
  {
   "cell_type": "code",
   "execution_count": 1,
   "metadata": {},
   "outputs": [],
   "source": [
    "from internal_scripts.modelling.training.KerasTrainer import * \n",
    "from internal_scripts.modelling.training.SklearnTrainer import *\n",
    "from internal_scripts.data_loaders.BlackFridayDataLoader import *\n",
    "from sklearn.svm import LinearSVC\n",
    "from sklearn.linear_model import LogisticRegression\n",
    "from sklearn.tree import DecisionTreeClassifier\n",
    "from sklearn.ensemble import RandomForestClassifier\n",
    "from xgboost import XGBClassifier"
   ]
  },
  {
   "cell_type": "code",
   "execution_count": 2,
   "metadata": {},
   "outputs": [],
   "source": [
    "data = BlackFridayDataLoader().get_train_test_split()"
   ]
  },
  {
   "cell_type": "code",
   "execution_count": 3,
   "metadata": {},
   "outputs": [],
   "source": [
    "models = {\n",
    "    \"Linear SVC\": LinearSVC(),\n",
    "    \"Logistic_Regression\": LogisticRegression(C=1e5, solver='lbfgs', multi_class='multinomial', max_iter=10000),\n",
    "    \"Decision_Tree\": DecisionTreeClassifier(),\n",
    "    \"Random_Forest_Classifier\": RandomForestClassifier(n_estimators=10),\n",
    "    \"XGboost\": XGBClassifier()\n",
    "}"
   ]
  },
  {
   "cell_type": "code",
   "execution_count": 4,
   "metadata": {},
   "outputs": [
    {
     "name": "stdout",
     "output_type": "stream",
     "text": [
      "Process for Linear SVC started\n"
     ]
    },
    {
     "name": "stderr",
     "output_type": "stream",
     "text": [
      "c:\\program files\\python36\\lib\\site-packages\\sklearn\\svm\\base.py:931: ConvergenceWarning: Liblinear failed to converge, increase the number of iterations.\n",
      "  \"the number of iterations.\", ConvergenceWarning)\n"
     ]
    },
    {
     "name": "stdout",
     "output_type": "stream",
     "text": [
      "              precision    recall  f1-score   support\n",
      "\n",
      "           0       0.42      0.55      0.48       581\n",
      "           1       0.41      0.15      0.22       602\n",
      "           2       0.51      0.70      0.59       585\n",
      "\n",
      "   micro avg       0.46      0.46      0.46      1768\n",
      "   macro avg       0.45      0.47      0.43      1768\n",
      "weighted avg       0.45      0.46      0.43      1768\n",
      "\n",
      "Process for Linear SVC has ended\n",
      "Process for Logistic_Regression started\n",
      "              precision    recall  f1-score   support\n",
      "\n",
      "           0       0.45      0.45      0.45       581\n",
      "           1       0.41      0.26      0.32       602\n",
      "           2       0.51      0.70      0.59       585\n",
      "\n",
      "   micro avg       0.47      0.47      0.47      1768\n",
      "   macro avg       0.46      0.47      0.45      1768\n",
      "weighted avg       0.46      0.47      0.45      1768\n",
      "\n",
      "Process for Logistic_Regression has ended\n",
      "Process for Decision_Tree started\n",
      "              precision    recall  f1-score   support\n",
      "\n",
      "           0       0.39      0.46      0.42       581\n",
      "           1       0.36      0.34      0.35       602\n",
      "           2       0.42      0.37      0.40       585\n",
      "\n",
      "   micro avg       0.39      0.39      0.39      1768\n",
      "   macro avg       0.39      0.39      0.39      1768\n",
      "weighted avg       0.39      0.39      0.39      1768\n",
      "\n",
      "Process for Decision_Tree has ended\n",
      "Process for Random_Forest_Classifier started\n",
      "              precision    recall  f1-score   support\n",
      "\n",
      "           0       0.38      0.37      0.37       581\n",
      "           1       0.33      0.34      0.33       602\n",
      "           2       0.41      0.40      0.40       585\n",
      "\n",
      "   micro avg       0.37      0.37      0.37      1768\n",
      "   macro avg       0.37      0.37      0.37      1768\n",
      "weighted avg       0.37      0.37      0.37      1768\n",
      "\n",
      "Process for Random_Forest_Classifier has ended\n",
      "Process for XGboost started\n",
      "              precision    recall  f1-score   support\n",
      "\n",
      "           0       0.45      0.48      0.47       581\n",
      "           1       0.41      0.27      0.32       602\n",
      "           2       0.52      0.66      0.58       585\n",
      "\n",
      "   micro avg       0.47      0.47      0.47      1768\n",
      "   macro avg       0.46      0.47      0.46      1768\n",
      "weighted avg       0.46      0.47      0.46      1768\n",
      "\n",
      "Process for XGboost has ended\n"
     ]
    }
   ],
   "source": [
    "for name, model in models.items():\n",
    "    print(f\"Process for {name} started\")\n",
    "    trainer = SklearnTrainer(name, model, data)\n",
    "    trained_model = trainer.fit(fitting_params=None)\n",
    "    metrics = trainer.score_model()\n",
    "    print(metrics)\n",
    "    trainer.save_model()\n",
    "    print(f\"Process for {name} has ended\")"
   ]
  },
  {
   "cell_type": "code",
   "execution_count": null,
   "metadata": {},
   "outputs": [],
   "source": []
  }
 ],
 "metadata": {
  "kernelspec": {
   "display_name": "Python 3",
   "language": "python",
   "name": "python3"
  },
  "language_info": {
   "codemirror_mode": {
    "name": "ipython",
    "version": 3
   },
   "file_extension": ".py",
   "mimetype": "text/x-python",
   "name": "python",
   "nbconvert_exporter": "python",
   "pygments_lexer": "ipython3",
   "version": "3.6.5"
  }
 },
 "nbformat": 4,
 "nbformat_minor": 2
}
