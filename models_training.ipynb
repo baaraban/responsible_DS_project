{
 "cells": [
  {
   "cell_type": "code",
   "execution_count": 1,
   "metadata": {},
   "outputs": [],
   "source": [
    "from internal_scripts.modelling.training.KerasTrainer import * \n",
    "from internal_scripts.modelling.training.SklearnTrainer import *\n",
    "from internal_scripts.data_loaders.BlackFridayDataLoader import *\n",
    "from sklearn.svm import LinearSVC\n",
    "from sklearn.linear_model import LogisticRegression\n",
    "from sklearn.tree import DecisionTreeClassifier\n",
    "from sklearn.ensemble import RandomForestClassifier\n",
    "from xgboost import XGBClassifier"
   ]
  },
  {
   "cell_type": "code",
   "execution_count": 2,
   "metadata": {},
   "outputs": [],
   "source": [
    "data = BlackFridayDataLoader().get_train_test_split()"
   ]
  },
  {
   "cell_type": "code",
   "execution_count": 5,
   "metadata": {},
   "outputs": [
    {
     "ename": "TypeError",
     "evalue": "__init__() got an unexpected keyword argument 'kernel'",
     "output_type": "error",
     "traceback": [
      "\u001b[1;31m---------------------------------------------------------------------------\u001b[0m",
      "\u001b[1;31mTypeError\u001b[0m                                 Traceback (most recent call last)",
      "\u001b[1;32m<ipython-input-5-263037450817>\u001b[0m in \u001b[0;36m<module>\u001b[1;34m()\u001b[0m\n\u001b[0;32m      1\u001b[0m models = {\n\u001b[1;32m----> 2\u001b[1;33m     \u001b[1;34m\"Linear SVC\"\u001b[0m\u001b[1;33m:\u001b[0m \u001b[0mLinearSVC\u001b[0m\u001b[1;33m(\u001b[0m\u001b[0mkernel\u001b[0m\u001b[1;33m=\u001b[0m\u001b[1;34m\"linear\"\u001b[0m\u001b[1;33m)\u001b[0m\u001b[1;33m,\u001b[0m\u001b[1;33m\u001b[0m\u001b[0m\n\u001b[0m\u001b[0;32m      3\u001b[0m     \u001b[1;34m\"Logistic_Regression\"\u001b[0m\u001b[1;33m:\u001b[0m \u001b[0mLogisticRegression\u001b[0m\u001b[1;33m(\u001b[0m\u001b[0mC\u001b[0m\u001b[1;33m=\u001b[0m\u001b[1;36m1e5\u001b[0m\u001b[1;33m,\u001b[0m \u001b[0msolver\u001b[0m\u001b[1;33m=\u001b[0m\u001b[1;34m'lbfgs'\u001b[0m\u001b[1;33m,\u001b[0m \u001b[0mmulti_class\u001b[0m\u001b[1;33m=\u001b[0m\u001b[1;34m'multinomial'\u001b[0m\u001b[1;33m,\u001b[0m \u001b[0mmax_iter\u001b[0m\u001b[1;33m=\u001b[0m\u001b[1;36m10000\u001b[0m\u001b[1;33m)\u001b[0m\u001b[1;33m,\u001b[0m\u001b[1;33m\u001b[0m\u001b[0m\n\u001b[0;32m      4\u001b[0m     \u001b[1;34m\"Decision_Tree\"\u001b[0m\u001b[1;33m:\u001b[0m \u001b[0mDecisionTreeClassifier\u001b[0m\u001b[1;33m(\u001b[0m\u001b[1;33m)\u001b[0m\u001b[1;33m,\u001b[0m\u001b[1;33m\u001b[0m\u001b[0m\n\u001b[0;32m      5\u001b[0m     \u001b[1;34m\"Random_Forest_Classifier\"\u001b[0m\u001b[1;33m:\u001b[0m \u001b[0mRandomForestClassifier\u001b[0m\u001b[1;33m(\u001b[0m\u001b[0mn_estimators\u001b[0m\u001b[1;33m=\u001b[0m\u001b[1;36m10\u001b[0m\u001b[1;33m)\u001b[0m\u001b[1;33m,\u001b[0m\u001b[1;33m\u001b[0m\u001b[0m\n",
      "\u001b[1;31mTypeError\u001b[0m: __init__() got an unexpected keyword argument 'kernel'"
     ]
    }
   ],
   "source": [
    "models = {\n",
    "    \"Linear SVC\": LinearSVC(),\n",
    "    \"Logistic_Regression\": LogisticRegression(C=1e5, solver='lbfgs', multi_class='multinomial', max_iter=10000),\n",
    "    \"Decision_Tree\": DecisionTreeClassifier(),\n",
    "    \"Random_Forest_Classifier\": RandomForestClassifier(n_estimators=10),\n",
    "    \"XGboost\": XGBClassifier()\n",
    "}"
   ]
  },
  {
   "cell_type": "code",
   "execution_count": 4,
   "metadata": {},
   "outputs": [
    {
     "name": "stdout",
     "output_type": "stream",
     "text": [
      "Process for Linear SVC started\n"
     ]
    },
    {
     "name": "stderr",
     "output_type": "stream",
     "text": [
      "c:\\program files\\python36\\lib\\site-packages\\sklearn\\svm\\base.py:931: ConvergenceWarning: Liblinear failed to converge, increase the number of iterations.\n",
      "  \"the number of iterations.\", ConvergenceWarning)\n",
      "c:\\program files\\python36\\lib\\site-packages\\sklearn\\metrics\\classification.py:1143: UndefinedMetricWarning: Precision and F-score are ill-defined and being set to 0.0 in labels with no predicted samples.\n",
      "  'precision', 'predicted', average, warn_for)\n"
     ]
    },
    {
     "name": "stdout",
     "output_type": "stream",
     "text": [
      "              precision    recall  f1-score   support\n",
      "\n",
      "           0       0.75      1.00      0.86      1323\n",
      "           1       0.00      0.00      0.00       275\n",
      "           2       0.00      0.00      0.00       111\n",
      "           3       0.00      0.00      0.00        38\n",
      "           4       0.00      0.00      0.00        16\n",
      "           5       0.00      0.00      0.00         1\n",
      "           6       0.00      0.00      0.00         3\n",
      "           8       0.00      0.00      0.00         1\n",
      "\n",
      "   micro avg       0.75      0.75      0.75      1768\n",
      "   macro avg       0.09      0.12      0.11      1768\n",
      "weighted avg       0.56      0.75      0.64      1768\n",
      "\n",
      "Process for Linear SVC has ended\n",
      "Process for Logistic_Regression started\n"
     ]
    },
    {
     "name": "stderr",
     "output_type": "stream",
     "text": [
      "c:\\program files\\python36\\lib\\site-packages\\sklearn\\metrics\\classification.py:1143: UndefinedMetricWarning: Precision and F-score are ill-defined and being set to 0.0 in labels with no predicted samples.\n",
      "  'precision', 'predicted', average, warn_for)\n",
      "c:\\program files\\python36\\lib\\site-packages\\sklearn\\metrics\\classification.py:1143: UndefinedMetricWarning: Precision and F-score are ill-defined and being set to 0.0 in labels with no predicted samples.\n",
      "  'precision', 'predicted', average, warn_for)\n",
      "c:\\program files\\python36\\lib\\site-packages\\sklearn\\metrics\\classification.py:1145: UndefinedMetricWarning: Recall and F-score are ill-defined and being set to 0.0 in labels with no true samples.\n",
      "  'recall', 'true', average, warn_for)\n",
      "c:\\program files\\python36\\lib\\site-packages\\sklearn\\metrics\\classification.py:1143: UndefinedMetricWarning: Precision and F-score are ill-defined and being set to 0.0 in labels with no predicted samples.\n",
      "  'precision', 'predicted', average, warn_for)\n"
     ]
    },
    {
     "name": "stdout",
     "output_type": "stream",
     "text": [
      "              precision    recall  f1-score   support\n",
      "\n",
      "           0       0.75      1.00      0.86      1323\n",
      "           1       0.00      0.00      0.00       275\n",
      "           2       0.00      0.00      0.00       111\n",
      "           3       0.00      0.00      0.00        38\n",
      "           4       0.00      0.00      0.00        16\n",
      "           5       0.00      0.00      0.00         1\n",
      "           6       0.00      0.00      0.00         3\n",
      "           8       0.00      0.00      0.00         1\n",
      "\n",
      "   micro avg       0.75      0.75      0.75      1768\n",
      "   macro avg       0.09      0.12      0.11      1768\n",
      "weighted avg       0.56      0.75      0.64      1768\n",
      "\n",
      "Process for Logistic_Regression has ended\n",
      "Process for Decision_Tree started\n",
      "              precision    recall  f1-score   support\n",
      "\n",
      "           0       0.78      0.87      0.82      1323\n",
      "           1       0.17      0.13      0.15       275\n",
      "           2       0.17      0.07      0.10       111\n",
      "           3       0.08      0.05      0.06        38\n",
      "           4       0.00      0.00      0.00        16\n",
      "           5       0.00      0.00      0.00         1\n",
      "           6       0.00      0.00      0.00         3\n",
      "           8       0.00      0.00      0.00         1\n",
      "           9       0.00      0.00      0.00         0\n",
      "\n",
      "   micro avg       0.67      0.67      0.67      1768\n",
      "   macro avg       0.13      0.12      0.13      1768\n",
      "weighted avg       0.62      0.67      0.64      1768\n",
      "\n",
      "Process for Decision_Tree has ended\n",
      "Process for Random_Forest_Classifier started\n",
      "              precision    recall  f1-score   support\n",
      "\n",
      "           0       0.78      0.85      0.81      1323\n",
      "           1       0.18      0.15      0.16       275\n",
      "           2       0.17      0.09      0.12       111\n",
      "           3       0.04      0.03      0.03        38\n",
      "           4       0.00      0.00      0.00        16\n",
      "           5       0.00      0.00      0.00         1\n",
      "           6       0.00      0.00      0.00         3\n",
      "           8       0.00      0.00      0.00         1\n",
      "\n",
      "   micro avg       0.67      0.67      0.67      1768\n",
      "   macro avg       0.15      0.14      0.14      1768\n",
      "weighted avg       0.62      0.67      0.64      1768\n",
      "\n",
      "Process for Random_Forest_Classifier has ended\n",
      "Process for XGboost started\n",
      "              precision    recall  f1-score   support\n",
      "\n",
      "           0       0.75      0.99      0.86      1323\n",
      "           1       0.30      0.02      0.04       275\n",
      "           2       0.00      0.00      0.00       111\n",
      "           3       0.00      0.00      0.00        38\n",
      "           4       0.00      0.00      0.00        16\n",
      "           5       0.00      0.00      0.00         1\n",
      "           6       0.00      0.00      0.00         3\n",
      "           8       0.00      0.00      0.00         1\n",
      "\n",
      "   micro avg       0.75      0.75      0.75      1768\n",
      "   macro avg       0.13      0.13      0.11      1768\n",
      "weighted avg       0.61      0.75      0.65      1768\n",
      "\n",
      "Process for XGboost has ended\n"
     ]
    }
   ],
   "source": [
    "for name, model in models.items():\n",
    "    print(f\"Process for {name} started\")\n",
    "    trainer = SklearnTrainer(name, model, data)\n",
    "    trained_model = trainer.fit(fitting_params=None)\n",
    "    metrics = trainer.score_model()\n",
    "    print(metrics)\n",
    "    trainer.save_model()\n",
    "    print(f\"Process for {name} has ended\")"
   ]
  },
  {
   "cell_type": "code",
   "execution_count": null,
   "metadata": {},
   "outputs": [],
   "source": []
  }
 ],
 "metadata": {
  "kernelspec": {
   "display_name": "Python 3",
   "language": "python",
   "name": "python3"
  },
  "language_info": {
   "codemirror_mode": {
    "name": "ipython",
    "version": 3
   },
   "file_extension": ".py",
   "mimetype": "text/x-python",
   "name": "python",
   "nbconvert_exporter": "python",
   "pygments_lexer": "ipython3",
   "version": "3.6.5"
  }
 },
 "nbformat": 4,
 "nbformat_minor": 2
}
