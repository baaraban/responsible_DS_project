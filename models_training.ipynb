{
 "cells": [
  {
   "cell_type": "code",
   "execution_count": 1,
   "metadata": {},
   "outputs": [],
   "source": [
    "from internal_scripts.modelling.training.KerasTrainer import * \n",
    "from internal_scripts.modelling.training.SklearnTrainer import *\n",
    "from internal_scripts.data_loaders.BlackFridayDataLoader import *\n",
    "from sklearn.svm import SVC\n",
    "from sklearn.linear_model import LogisticRegression\n",
    "from sklearn.tree import DecisionTreeClassifier\n",
    "from sklearn.ensemble import RandomForestClassifier\n",
    "from xgboost import XGBClassifier"
   ]
  },
  {
   "cell_type": "code",
   "execution_count": 2,
   "metadata": {},
   "outputs": [],
   "source": [
    "data = BlackFridayDataLoader().get_train_test_split()"
   ]
  },
  {
   "cell_type": "code",
   "execution_count": 3,
   "metadata": {},
   "outputs": [],
   "source": [
    "models = {\n",
    "    \"SVC\": SVC(),\n",
    "    \"Logistic_Regression\": LogisticRegression(C=1e5, solver='lbfgs', multi_class='multinomial', max_iter=10000),\n",
    "    \"Decision_Tree\": DecisionTreeClassifier(),\n",
    "    \"Random_Forest_Classifier\": RandomForestClassifier(n_estimators=10),\n",
    "    \"XGboost\": XGBClassifier()\n",
    "}"
   ]
  },
  {
   "cell_type": "code",
   "execution_count": 4,
   "metadata": {},
   "outputs": [
    {
     "name": "stdout",
     "output_type": "stream",
     "text": [
      "Process for SVC started\n"
     ]
    },
    {
     "name": "stderr",
     "output_type": "stream",
     "text": [
      "c:\\program files\\python36\\lib\\site-packages\\sklearn\\svm\\base.py:196: FutureWarning: The default value of gamma will change from 'auto' to 'scale' in version 0.22 to account better for unscaled features. Set gamma explicitly to 'auto' or 'scale' to avoid this warning.\n",
      "  \"avoid this warning.\", FutureWarning)\n",
      "c:\\program files\\python36\\lib\\site-packages\\sklearn\\metrics\\classification.py:1143: UndefinedMetricWarning: Precision and F-score are ill-defined and being set to 0.0 in labels with no predicted samples.\n",
      "  'precision', 'predicted', average, warn_for)\n"
     ]
    },
    {
     "name": "stdout",
     "output_type": "stream",
     "text": [
      "              precision    recall  f1-score   support\n",
      "\n",
      "           0       0.75      1.00      0.86      1328\n",
      "           1       0.00      0.00      0.00       277\n",
      "           2       0.00      0.00      0.00       102\n",
      "           3       0.00      0.00      0.00        45\n",
      "           4       0.00      0.00      0.00        10\n",
      "           5       0.00      0.00      0.00         3\n",
      "           6       0.00      0.00      0.00         2\n",
      "           7       0.00      0.00      0.00         1\n",
      "\n",
      "   micro avg       0.75      0.75      0.75      1768\n",
      "   macro avg       0.09      0.12      0.11      1768\n",
      "weighted avg       0.56      0.75      0.64      1768\n",
      "\n",
      "Process for SVC has ended\n",
      "Process for Logistic_Regression started\n"
     ]
    },
    {
     "name": "stderr",
     "output_type": "stream",
     "text": [
      "c:\\program files\\python36\\lib\\site-packages\\sklearn\\metrics\\classification.py:1143: UndefinedMetricWarning: Precision and F-score are ill-defined and being set to 0.0 in labels with no predicted samples.\n",
      "  'precision', 'predicted', average, warn_for)\n",
      "c:\\program files\\python36\\lib\\site-packages\\sklearn\\metrics\\classification.py:1143: UndefinedMetricWarning: Precision and F-score are ill-defined and being set to 0.0 in labels with no predicted samples.\n",
      "  'precision', 'predicted', average, warn_for)\n",
      "c:\\program files\\python36\\lib\\site-packages\\sklearn\\metrics\\classification.py:1143: UndefinedMetricWarning: Precision and F-score are ill-defined and being set to 0.0 in labels with no predicted samples.\n",
      "  'precision', 'predicted', average, warn_for)\n"
     ]
    },
    {
     "name": "stdout",
     "output_type": "stream",
     "text": [
      "              precision    recall  f1-score   support\n",
      "\n",
      "           0       0.75      1.00      0.86      1328\n",
      "           1       0.00      0.00      0.00       277\n",
      "           2       0.00      0.00      0.00       102\n",
      "           3       0.00      0.00      0.00        45\n",
      "           4       0.00      0.00      0.00        10\n",
      "           5       0.00      0.00      0.00         3\n",
      "           6       0.00      0.00      0.00         2\n",
      "           7       0.00      0.00      0.00         1\n",
      "\n",
      "   micro avg       0.75      0.75      0.75      1768\n",
      "   macro avg       0.09      0.12      0.11      1768\n",
      "weighted avg       0.56      0.75      0.64      1768\n",
      "\n",
      "Process for Logistic_Regression has ended\n",
      "Process for Decision_Tree started\n",
      "              precision    recall  f1-score   support\n",
      "\n",
      "           0       0.78      0.87      0.82      1328\n",
      "           1       0.17      0.11      0.13       277\n",
      "           2       0.14      0.10      0.12       102\n",
      "           3       0.05      0.02      0.03        45\n",
      "           4       0.00      0.00      0.00        10\n",
      "           5       0.00      0.00      0.00         3\n",
      "           6       0.00      0.00      0.00         2\n",
      "           7       0.00      0.00      0.00         1\n",
      "\n",
      "   micro avg       0.67      0.67      0.67      1768\n",
      "   macro avg       0.14      0.14      0.14      1768\n",
      "weighted avg       0.62      0.67      0.64      1768\n",
      "\n",
      "Process for Decision_Tree has ended\n",
      "Process for Random_Forest_Classifier started\n",
      "              precision    recall  f1-score   support\n",
      "\n",
      "           0       0.78      0.88      0.83      1328\n",
      "           1       0.20      0.13      0.16       277\n",
      "           2       0.18      0.12      0.14       102\n",
      "           3       0.00      0.00      0.00        45\n",
      "           4       0.00      0.00      0.00        10\n",
      "           5       0.00      0.00      0.00         3\n",
      "           6       0.00      0.00      0.00         2\n",
      "           7       0.00      0.00      0.00         1\n",
      "\n",
      "   micro avg       0.69      0.69      0.69      1768\n",
      "   macro avg       0.15      0.14      0.14      1768\n",
      "weighted avg       0.63      0.69      0.65      1768\n",
      "\n",
      "Process for Random_Forest_Classifier has ended\n",
      "Process for XGboost started\n",
      "              precision    recall  f1-score   support\n",
      "\n",
      "           0       0.75      1.00      0.86      1328\n",
      "           1       0.00      0.00      0.00       277\n",
      "           2       0.00      0.00      0.00       102\n",
      "           3       0.00      0.00      0.00        45\n",
      "           4       0.00      0.00      0.00        10\n",
      "           5       0.00      0.00      0.00         3\n",
      "           6       0.00      0.00      0.00         2\n",
      "           7       0.00      0.00      0.00         1\n",
      "\n",
      "   micro avg       0.75      0.75      0.75      1768\n",
      "   macro avg       0.09      0.12      0.11      1768\n",
      "weighted avg       0.56      0.75      0.64      1768\n",
      "\n",
      "Process for XGboost has ended\n"
     ]
    }
   ],
   "source": [
    "for name, model in models.items():\n",
    "    print(f\"Process for {name} started\")\n",
    "    trainer = SklearnTrainer(name, model, data)\n",
    "    trained_model = trainer.fit(fitting_params=None)\n",
    "    metrics = trainer.score_model()\n",
    "    print(metrics)\n",
    "    trainer.save_model()\n",
    "    print(f\"Process for {name} has ended\")"
   ]
  },
  {
   "cell_type": "code",
   "execution_count": null,
   "metadata": {},
   "outputs": [],
   "source": []
  }
 ],
 "metadata": {
  "kernelspec": {
   "display_name": "Python 3",
   "language": "python",
   "name": "python3"
  },
  "language_info": {
   "codemirror_mode": {
    "name": "ipython",
    "version": 3
   },
   "file_extension": ".py",
   "mimetype": "text/x-python",
   "name": "python",
   "nbconvert_exporter": "python",
   "pygments_lexer": "ipython3",
   "version": "3.6.5"
  }
 },
 "nbformat": 4,
 "nbformat_minor": 2
}
